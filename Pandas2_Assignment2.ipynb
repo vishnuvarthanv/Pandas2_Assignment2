{
 "cells": [
  {
   "cell_type": "code",
   "execution_count": 6,
   "metadata": {},
   "outputs": [
    {
     "data": {
      "text/plain": [
       "Index(['Unnamed: 0', 'Id', 'Name', 'Year', 'Gender', 'State', 'Count'], dtype='object')"
      ]
     },
     "execution_count": 6,
     "metadata": {},
     "output_type": "execute_result"
    }
   ],
   "source": [
    "import numpy as np\n",
    "import pandas as pd\n",
    "data = pd.read_csv('https://raw.githubusercontent.com/guipsamora/pandas_exercises/master/06_Stats/US_Baby_Names/US_Baby_Names_right.csv')\n",
    "data.head(5)\n",
    "data.columns"
   ]
  },
  {
   "cell_type": "code",
   "execution_count": 7,
   "metadata": {},
   "outputs": [],
   "source": [
    "#1. Delete unnamed columns\n",
    "data.drop('Unnamed: 0',axis=1,inplace=True)"
   ]
  },
  {
   "cell_type": "code",
   "execution_count": 9,
   "metadata": {},
   "outputs": [
    {
     "data": {
      "text/plain": [
       "F    0.549832\n",
       "M    0.450168\n",
       "Name: Gender, dtype: float64"
      ]
     },
     "execution_count": 9,
     "metadata": {},
     "output_type": "execute_result"
    }
   ],
   "source": [
    "#2. Show the distribution of male and female\n",
    "data.groupby('Gender').describe()\n",
    "data.Gender.value_counts('F')"
   ]
  },
  {
   "cell_type": "code",
   "execution_count": 11,
   "metadata": {},
   "outputs": [
    {
     "data": {
      "text/plain": [
       "Riley     1112\n",
       "Avery     1080\n",
       "Jordan    1073\n",
       "Peyton    1064\n",
       "Hayden    1049\n",
       "Name: Name, dtype: int64"
      ]
     },
     "execution_count": 11,
     "metadata": {},
     "output_type": "execute_result"
    }
   ],
   "source": [
    "#3. Show the top 5 most preferred names\n",
    "data_pref_name = data.Name.value_counts().sort_values(ascending=False).head(5)\n",
    "data_pref_name"
   ]
  },
  {
   "cell_type": "code",
   "execution_count": 12,
   "metadata": {},
   "outputs": [
    {
     "name": "stdout",
     "output_type": "stream",
     "text": [
      "(array([508197], dtype=int32),)\n",
      "             Id   Name  Year Gender State  Count\n",
      "508197  2811921  Kasey  2010      F    MO      6\n"
     ]
    }
   ],
   "source": [
    "#4. What is the median name occurence in the dataset\n",
    "data_median =  (np.where(data.Id == data.Id.median()))\n",
    "print (data_median)\n",
    "Median_name = data.loc[data_median]\n",
    "print (Median_name)"
   ]
  },
  {
   "cell_type": "code",
   "execution_count": 14,
   "metadata": {},
   "outputs": [
    {
     "data": {
      "text/html": [
       "<div>\n",
       "<style scoped>\n",
       "    .dataframe tbody tr th:only-of-type {\n",
       "        vertical-align: middle;\n",
       "    }\n",
       "\n",
       "    .dataframe tbody tr th {\n",
       "        vertical-align: top;\n",
       "    }\n",
       "\n",
       "    .dataframe thead th {\n",
       "        text-align: right;\n",
       "    }\n",
       "</style>\n",
       "<table border=\"1\" class=\"dataframe\">\n",
       "  <thead>\n",
       "    <tr style=\"text-align: right;\">\n",
       "      <th>State</th>\n",
       "      <th>AK</th>\n",
       "      <th>AL</th>\n",
       "      <th>AR</th>\n",
       "      <th>AZ</th>\n",
       "      <th>CA</th>\n",
       "      <th>CO</th>\n",
       "      <th>CT</th>\n",
       "      <th>DC</th>\n",
       "      <th>DE</th>\n",
       "      <th>FL</th>\n",
       "      <th>...</th>\n",
       "      <th>SD</th>\n",
       "      <th>TN</th>\n",
       "      <th>TX</th>\n",
       "      <th>UT</th>\n",
       "      <th>VA</th>\n",
       "      <th>VT</th>\n",
       "      <th>WA</th>\n",
       "      <th>WI</th>\n",
       "      <th>WV</th>\n",
       "      <th>WY</th>\n",
       "    </tr>\n",
       "    <tr>\n",
       "      <th>Gender</th>\n",
       "      <th></th>\n",
       "      <th></th>\n",
       "      <th></th>\n",
       "      <th></th>\n",
       "      <th></th>\n",
       "      <th></th>\n",
       "      <th></th>\n",
       "      <th></th>\n",
       "      <th></th>\n",
       "      <th></th>\n",
       "      <th></th>\n",
       "      <th></th>\n",
       "      <th></th>\n",
       "      <th></th>\n",
       "      <th></th>\n",
       "      <th></th>\n",
       "      <th></th>\n",
       "      <th></th>\n",
       "      <th></th>\n",
       "      <th></th>\n",
       "      <th></th>\n",
       "    </tr>\n",
       "  </thead>\n",
       "  <tbody>\n",
       "    <tr>\n",
       "      <th>F</th>\n",
       "      <td>2404</td>\n",
       "      <td>9878</td>\n",
       "      <td>7171</td>\n",
       "      <td>14518</td>\n",
       "      <td>45144</td>\n",
       "      <td>11424</td>\n",
       "      <td>6575</td>\n",
       "      <td>3053</td>\n",
       "      <td>2549</td>\n",
       "      <td>25781</td>\n",
       "      <td>...</td>\n",
       "      <td>2838</td>\n",
       "      <td>13063</td>\n",
       "      <td>39760</td>\n",
       "      <td>9515</td>\n",
       "      <td>14759</td>\n",
       "      <td>1398</td>\n",
       "      <td>13329</td>\n",
       "      <td>10549</td>\n",
       "      <td>4305</td>\n",
       "      <td>1456</td>\n",
       "    </tr>\n",
       "    <tr>\n",
       "      <th>M</th>\n",
       "      <td>2587</td>\n",
       "      <td>8419</td>\n",
       "      <td>6475</td>\n",
       "      <td>10820</td>\n",
       "      <td>31637</td>\n",
       "      <td>9183</td>\n",
       "      <td>5733</td>\n",
       "      <td>3000</td>\n",
       "      <td>2440</td>\n",
       "      <td>20070</td>\n",
       "      <td>...</td>\n",
       "      <td>2908</td>\n",
       "      <td>10588</td>\n",
       "      <td>27791</td>\n",
       "      <td>8233</td>\n",
       "      <td>11997</td>\n",
       "      <td>1618</td>\n",
       "      <td>11049</td>\n",
       "      <td>8940</td>\n",
       "      <td>3733</td>\n",
       "      <td>1904</td>\n",
       "    </tr>\n",
       "  </tbody>\n",
       "</table>\n",
       "<p>2 rows × 51 columns</p>\n",
       "</div>"
      ],
      "text/plain": [
       "State     AK    AL    AR     AZ     CA     CO    CT    DC    DE     FL  ...   \\\n",
       "Gender                                                                  ...    \n",
       "F       2404  9878  7171  14518  45144  11424  6575  3053  2549  25781  ...    \n",
       "M       2587  8419  6475  10820  31637   9183  5733  3000  2440  20070  ...    \n",
       "\n",
       "State     SD     TN     TX    UT     VA    VT     WA     WI    WV    WY  \n",
       "Gender                                                                   \n",
       "F       2838  13063  39760  9515  14759  1398  13329  10549  4305  1456  \n",
       "M       2908  10588  27791  8233  11997  1618  11049   8940  3733  1904  \n",
       "\n",
       "[2 rows x 51 columns]"
      ]
     },
     "execution_count": 14,
     "metadata": {},
     "output_type": "execute_result"
    }
   ],
   "source": [
    "#5. Distribution of male and female born count by states\n",
    "pd.crosstab(index=data.Gender,columns=data.State)"
   ]
  },
  {
   "cell_type": "code",
   "execution_count": null,
   "metadata": {},
   "outputs": [],
   "source": []
  }
 ],
 "metadata": {
  "kernelspec": {
   "display_name": "Python 3",
   "language": "python",
   "name": "python3"
  },
  "language_info": {
   "codemirror_mode": {
    "name": "ipython",
    "version": 3
   },
   "file_extension": ".py",
   "mimetype": "text/x-python",
   "name": "python",
   "nbconvert_exporter": "python",
   "pygments_lexer": "ipython3",
   "version": "3.6.8"
  }
 },
 "nbformat": 4,
 "nbformat_minor": 2
}
